{
 "cells": [
  {
   "cell_type": "markdown",
   "metadata": {},
   "source": [
    "## Download restaurant data from Yelp API\n",
    "\n",
    "Script learned and followed from https://www.youtube.com/watch?v=0ktyc_PLWUg&ab_channel=SpencerHolley"
   ]
  },
  {
   "cell_type": "code",
   "execution_count": 10,
   "metadata": {},
   "outputs": [],
   "source": [
    "import requests\n",
    "import json\n",
    "import pandas as pd\n",
    "import matplotlib.pyplot as plt\n",
    "import numpy as np"
   ]
  },
  {
   "cell_type": "code",
   "execution_count": 2,
   "metadata": {},
   "outputs": [],
   "source": [
    "# essential arguments used to send api requests\n",
    "url = 'https://api.yelp.com/v3/businesses/search'\n",
    "api_key = 'vevbYbYiuM0heHFrfYU_WiiPPqS-8VjcXHniGbE-01pS1mj-Lw__O_NZN4Injj3nPbSArkJufV3WIWhDQXmzogHenrBXMJ0ZP8wQ3jfBaZvT7fsXCo87I5Iyr9loYnYx'\n",
    "headers = {'Authorization': 'Bearer %s' % api_key}\n"
   ]
  },
  {
   "cell_type": "code",
   "execution_count": 14,
   "metadata": {},
   "outputs": [],
   "source": [
    "# list of original categories available on Yelp\n",
    "categories = ['italian','french','spanish','portuguese','austrian','belgian','bulgarian','czech','georgian','german','hungarian',\n",
    "              'fondue','polish','scandinavian','african','ethiopian','moroccan','mediterranean','greek','kebab','turkish','arabian',\n",
    "              'pakistani','mideastern','afghani','australian','russian','ukrainian','chinese','taiwanese','indpak','cambodian','indonesian',\n",
    "              'laotian','malaysian','singaporean','srilankan','thai','vietnamese','japanese','korean','bangladeshi','burmese','filipino',\n",
    "              'himalayan','asianfusion','mongolian','newamerican','tradamerican','hawaiian','mexican','argentine','brazilian','caribbean',\n",
    "              'cuban','latin','peruvian']"
   ]
  },
  {
   "cell_type": "code",
   "execution_count": 15,
   "metadata": {},
   "outputs": [],
   "source": [
    "general_cate = [{'Italian':['italian']},\n",
    "               {'French':['french']},\n",
    "               {'Mediterranean':['mediterranean', 'greek']},\n",
    "               {'Spanish':['spanish','portuguese']},\n",
    "               {'Central_European':['austrian','belgian','german','scandinavian','czech','fondue']},\n",
    "               {'East_European_&_Balkans':['hungarian','polish','russian','georgian','bulgarian','ukrainian']},\n",
    "               {'African':['african','ethiopian']},\n",
    "               {'Middle_Eastern':['mideastern','turkish','kebab','moroccan','arabian','afghani']},\n",
    "               {'South_Asian':['pakistani','indpak','srilankan','himalayan','bangladeshi']},\n",
    "               {'North_American':['australian', 'newamerican','tradamerican','hawaiian']},\n",
    "               {'East_Asian':['chinese', 'taiwanese','japanese','korean','asianfusion']},\n",
    "               {'Southeast_Asian':['indonesian', 'malaysian','thai','vietnamese','burmese','filipino','singaporean','laotian']},\n",
    "               {'Latin_American':['mexican','caribbean','latin', 'brazilian', 'argentine', 'peruvian', 'cuban']}\n",
    "               ]"
   ]
  },
  {
   "cell_type": "code",
   "execution_count": 16,
   "metadata": {},
   "outputs": [],
   "source": [
    "# a csv containing the info to define search areas (processed from the London boroughs shapefile in ArcGIS)\n",
    "centroids = pd.read_csv(\"centroids.csv\")"
   ]
  },
  {
   "cell_type": "code",
   "execution_count": 17,
   "metadata": {},
   "outputs": [],
   "source": [
    "# create a list of search area parameters\n",
    "c_x = centroids.centroid_x.tolist()\n",
    "c_y = centroids.centroid_y.tolist()\n",
    "mbg_r = centroids.radius.tolist()\n",
    "search_areas = []\n",
    "for i in range(33):\n",
    "    search_para = dict(longitude=c_x[i],latitude=c_y[i],radius=int(mbg_r[i]))\n",
    "    search_areas.append(search_para)"
   ]
  },
  {
   "cell_type": "code",
   "execution_count": 18,
   "metadata": {},
   "outputs": [],
   "source": [
    "# a series of functions used to retrieve and convert data\n",
    "def search_area(offset,category,search_range):\n",
    "    # return the list of businesses of certain category (string) in the specified search area (dictionary)\n",
    "    \n",
    "    params = {'term':'restaurants','locale':'en_GB','limit':50,'offset':offset,'categories':category}\n",
    "    params.update(search_range)\n",
    "    req=requests.get(url, params=params, headers=headers)\n",
    "    return req.json()['businesses']\n",
    "\n",
    "def business_retriever(category,search_range):\n",
    "    # retrive the json data of a certian cusine category in the specified area and store as a list\n",
    "    \n",
    "    cate_results = []\n",
    "    \n",
    "    # test number of total restaurants in this category\n",
    "    params = {'term':'restaurants','locale':'en_GB','limit':1,'offset':0,'categories':category}\n",
    "    params.update(search_range)\n",
    "    req=requests.get(url, params=params, headers=headers)\n",
    "    \n",
    "    if req.status_code == 200: # proceed only if the status code is 200\n",
    "        total = req.json()['total']\n",
    "        if total > 1000:\n",
    "            print ('There are more than 1000 restaurants under category',category,'. Only the first 1000 will be returned.')\n",
    "            for offset in range(0,1000,50):\n",
    "                results = search_area(offset,category,search_range)\n",
    "                cate_results.extend(results)\n",
    "        elif total > 50 and total <= 1000:\n",
    "            for offset in range(0,total,50):\n",
    "                results = search_area(offset,category,search_range)\n",
    "                cate_results.extend(results)\n",
    "        else:\n",
    "            cate_results.extend(search_area(0,category,search_range))\n",
    "            \n",
    "    else:\n",
    "        print ('Error in retrieving data.')\n",
    "        \n",
    "    return cate_results\n",
    "\n",
    "def extractor(categories,search_range):\n",
    "    # extract useful info from data retrieved and combine restaurants of different categories into one list\n",
    "    full_restaurants = []\n",
    "    for category in categories: # loop through all the categories\n",
    "        results = business_retriever(category,search_range)\n",
    "        for restaurant in results: # loop through restaurants in each category\n",
    "            if restaurant['is_closed'] == False: # only keep records that are still open\n",
    "                rest_out = {}\n",
    "                rest_out['id'] = restaurant['id']\n",
    "                rest_out['category'] = category\n",
    "                rest_out['longitude'] = restaurant['coordinates']['longitude']\n",
    "                rest_out['latitude'] = restaurant['coordinates']['latitude']\n",
    "                full_restaurants.append(rest_out)\n",
    "    return full_restaurants"
   ]
  },
  {
   "cell_type": "code",
   "execution_count": null,
   "metadata": {},
   "outputs": [],
   "source": [
    "# loop through the search areas, extract restaurant information and combine them together\n",
    "rest_list = []\n",
    "for area in search_areas:\n",
    "    resta_area = extractor(categories,area)\n",
    "    rest_list.extend(resta_area)\n"
   ]
  },
  {
   "cell_type": "code",
   "execution_count": 12,
   "metadata": {},
   "outputs": [],
   "source": [
    "# transform the list to a dataframe\n",
    "rest_df = pd.DataFrame(rest_list)\n",
    "# remove the duplicates\n",
    "final_df = rest_df.drop_duplicates(subset='id')"
   ]
  },
  {
   "cell_type": "code",
   "execution_count": null,
   "metadata": {},
   "outputs": [],
   "source": [
    "# a new column was added to the dataframe and the general category of each entry was assigned\n",
    "final_df.loc[:,'general_category'] = np.nan\n",
    "for dicts in general_cate:\n",
    "    for small_cate in list(dicts.values())[0]:\n",
    "        final_df.loc[final_df.category == small_cate,['general_category']] = list(dicts.keys())[0]"
   ]
  },
  {
   "cell_type": "code",
   "execution_count": 12,
   "metadata": {},
   "outputs": [],
   "source": [
    "final_df.to_csv(\"restaurants.csv\")"
   ]
  },
  {
   "cell_type": "code",
   "execution_count": null,
   "metadata": {},
   "outputs": [],
   "source": []
  },
  {
   "cell_type": "markdown",
   "metadata": {},
   "source": [
    "## Create a summary plot for all restauranta retrieved"
   ]
  },
  {
   "cell_type": "code",
   "execution_count": 7,
   "metadata": {},
   "outputs": [],
   "source": [
    "all_cat = ['East_Asian','Italian','South_Asian','Middle_Eastern','Southeast_Asian','Latin_American',\n",
    "           'Mediterranean','North_American','French','Spanish','African','Central_European','East_European']\n",
    "\n",
    "all_val = [1677,1613,1597,687,622,510,462,380,360,223,113,56,54]"
   ]
  },
  {
   "cell_type": "code",
   "execution_count": 10,
   "metadata": {},
   "outputs": [
    {
     "data": {
      "image/png": "[encoded data removed]",
      "text/plain": [
       "<Figure size 1152x648 with 1 Axes>"
      ]
     },
     "metadata": {},
     "output_type": "display_data"
    }
   ],
   "source": [
    "name = all_cat\n",
    "price = all_val\n",
    " \n",
    "# Figure Size\n",
    "fig, ax = plt.subplots(figsize =(16, 9))\n",
    " \n",
    "# Horizontal Bar Plot\n",
    "ax.barh(name, price)\n",
    " \n",
    "# Remove axes splines\n",
    "for s in ['top', 'bottom', 'left', 'right']:\n",
    "    ax.spines[s].set_visible(False)\n",
    " \n",
    "# Remove x, y Ticks\n",
    "ax.xaxis.set_ticks_position('none')\n",
    "ax.yaxis.set_ticks_position('none')\n",
    " \n",
    "# Add padding between axes and labels\n",
    "ax.xaxis.set_tick_params(pad = 5)\n",
    "ax.yaxis.set_tick_params(pad = 10)\n",
    " \n",
    "# Add x, y gridlines\n",
    "ax.grid(b = True, color ='grey',\n",
    "        linestyle ='-.', linewidth = 0.5,\n",
    "        alpha = 0.2)\n",
    " \n",
    "# Show top values\n",
    "ax.invert_yaxis()\n",
    " \n",
    "# Add annotation to bars\n",
    "for i in ax.patches:\n",
    "    plt.text(i.get_width()+0.2, i.get_y()+0.5,\n",
    "             str(round((i.get_width()), 2)),\n",
    "             fontsize = 10, fontweight ='bold',\n",
    "             color ='grey')\n",
    " \n",
    "# Add Plot Title\n",
    "ax.set_title('Numbers of restaurant in London',\n",
    "             loc ='left', )\n",
    " \n",
    "# Add Text watermark\n",
    "fig.text(0.9, 0.15, 'CASA0003 - group-7', fontsize = 12,\n",
    "         color ='grey', ha ='right', va ='bottom',\n",
    "         alpha = 0.7)\n",
    " \n",
    "# Show Plot\n",
    "plt.show()"
   ]
  },
  {
   "cell_type": "code",
   "execution_count": null,
   "metadata": {},
   "outputs": [],
   "source": []
  }
 ],
 "metadata": {
  "kernelspec": {
   "display_name": "Python 3 (ipykernel)",
   "language": "python",
   "name": "python3"
  },
  "language_info": {
   "codemirror_mode": {
    "name": "ipython",
    "version": 3
   },
   "file_extension": ".py",
   "mimetype": "text/x-python",
   "name": "python",
   "nbconvert_exporter": "python",
   "pygments_lexer": "ipython3",
   "version": "3.9.6"
  }
 },
 "nbformat": 4,
 "nbformat_minor": 4
}
